{
 "cells": [
  {
   "cell_type": "code",
   "execution_count": 2,
   "id": "02d0e9e4",
   "metadata": {},
   "outputs": [],
   "source": [
    "from rdkit import Chem\n",
    "from rdkit.Chem import AllChem, Draw\n",
    "\n",
    "\n",
    "mol = Chem.MolFromSmiles('C1=CC=CC=C1')\n",
    "Draw.MolToFile(mol,'benzene.png')\n",
    "\n",
    "# Morgan is another molecular Fingerprinting algorithm\n",
    "bi={}\n",
    "fp = AllChem.GetMorganFingerprintAsBitVect(mol, radius=2, bitInfo=bi)\n",
    "# Returns SVG\n",
    "sf=Draw.DrawMorganBit(mol, 389, bi, useSVG=True)"
   ]
  },
  {
   "cell_type": "code",
   "execution_count": 4,
   "id": "bc0ca4e9",
   "metadata": {},
   "outputs": [],
   "source": [
    "from rdkit.Chem import Descriptors"
   ]
  },
  {
   "cell_type": "code",
   "execution_count": 5,
   "id": "bc4d2087",
   "metadata": {},
   "outputs": [],
   "source": [
    "from rdkit.Chem.rdmolops import RDKFingerprint"
   ]
  },
  {
   "cell_type": "code",
   "execution_count": 7,
   "id": "805e5e0b",
   "metadata": {},
   "outputs": [
    {
     "name": "stdout",
     "output_type": "stream",
     "text": [
      "283.04000624\n"
     ]
    }
   ],
   "source": [
    "atomic_mass = Descriptors.ExactMolWt(mol)\n",
    "print(atomic_mass)"
   ]
  },
  {
   "cell_type": "code",
   "execution_count": 27,
   "id": "85c0189b",
   "metadata": {},
   "outputs": [],
   "source": [
    "import pandas as pd\n",
    "# Read the train.csv file into a pandas dataframe\n",
    "df = pd.read_csv(\"train_descriptors (1).csv\")\n",
    "\n",
    "# Iterate over the dataframe to convert SMILES to 2D structures and calculate 2D descriptors\n",
    "for i, row in df.iterrows():\n",
    "    smiles = row['SMILES']\n",
    "    mol = Chem.MolFromSmiles(smiles)\n",
    "    df.at[i, 'MW'] = Chem.Descriptors.MolWt(mol)\n",
    "    df.at[i, 'logP'] = Chem.Descriptors.MolLogP(mol)\n",
    "    df.at[i, 'rotatable_bonds'] = Chem.Descriptors.NumRotatableBonds(mol)\n",
    "    df.at[i, 'TPSA'] = Chem.Descriptors.TPSA(mol)\n",
    "    df.at[i, 'HBA'] = Chem.rdMolDescriptors.CalcNumHBA(mol)\n",
    "    df.at[i, 'HBD'] = Chem.rdMolDescriptors.CalcNumHBD(mol)\n",
    "    df.at[i, 'ring_count'] = Chem.Descriptors.RingCount(mol)\n",
    "    df.at[i, 'heavy_atoms'] = Chem.Descriptors.HeavyAtomCount(mol)"
   ]
  },
  {
   "cell_type": "code",
   "execution_count": 28,
   "id": "82eea5f1",
   "metadata": {},
   "outputs": [],
   "source": [
    "df.to_csv(\"train_descriptors (1).csv\", index=False)"
   ]
  },
  {
   "cell_type": "code",
   "execution_count": 8,
   "id": "4ab052d5",
   "metadata": {},
   "outputs": [],
   "source": [
    "import pandas as pd\n",
    "# Read the train.csv file into a pandas dataframe\n",
    "df = pd.read_excel(\"Book1.xlsx\")\n",
    "\n",
    "# Iterate over the dataframe to convert SMILES to 2D structures and calculate 2D descriptors\n",
    "for i, row in df.iterrows():\n",
    "    smiles = row['SMILES']\n",
    "    mol = Chem.MolFromSmiles(smiles)\n",
    "    df.at[i, 'MW'] = Chem.Descriptors.MolWt(mol)\n",
    "    df.at[i, 'logP'] = Chem.Descriptors.MolLogP(mol)\n",
    "    df.at[i, 'rotatable_bonds'] = Chem.Descriptors.NumRotatableBonds(mol)\n",
    "    df.at[i, 'TPSA'] = Chem.Descriptors.TPSA(mol)\n",
    "    df.at[i, 'HBA'] = Chem.rdMolDescriptors.CalcNumHBA(mol)\n",
    "    df.at[i, 'HBD'] = Chem.rdMolDescriptors.CalcNumHBD(mol)\n",
    "    df.at[i, 'ring_count'] = Chem.Descriptors.RingCount(mol)\n",
    "    df.at[i, 'heavy_atoms'] = Chem.Descriptors.HeavyAtomCount(mol)"
   ]
  },
  {
   "cell_type": "code",
   "execution_count": 31,
   "id": "018f3da4",
   "metadata": {},
   "outputs": [
    {
     "name": "stdout",
     "output_type": "stream",
     "text": [
      "Collecting openpyxl\n",
      "  Downloading openpyxl-3.0.10-py2.py3-none-any.whl (242 kB)\n",
      "     -------------------------------------- 242.1/242.1 kB 2.1 MB/s eta 0:00:00\n",
      "Collecting et-xmlfile\n",
      "  Downloading et_xmlfile-1.1.0-py3-none-any.whl (4.7 kB)\n",
      "Installing collected packages: et-xmlfile, openpyxl\n",
      "Successfully installed et-xmlfile-1.1.0 openpyxl-3.0.10\n",
      "Note: you may need to restart the kernel to use updated packages.\n"
     ]
    }
   ],
   "source": [
    "pip install openpyxl"
   ]
  },
  {
   "cell_type": "code",
   "execution_count": 9,
   "id": "7ab1d63a",
   "metadata": {},
   "outputs": [],
   "source": [
    "df.to_csv(\"test_descriptors (1).csv\", index=False)"
   ]
  },
  {
   "cell_type": "code",
   "execution_count": 10,
   "id": "4f9f5599",
   "metadata": {},
   "outputs": [
    {
     "name": "stdout",
     "output_type": "stream",
     "text": [
      "3.7.16\n"
     ]
    }
   ],
   "source": [
    "import platform\n",
    "print(platform.python_version())"
   ]
  },
  {
   "cell_type": "code",
   "execution_count": null,
   "id": "66853abf",
   "metadata": {},
   "outputs": [],
   "source": []
  }
 ],
 "metadata": {
  "kernelspec": {
   "display_name": "Python 3 (ipykernel)",
   "language": "python",
   "name": "python3"
  },
  "language_info": {
   "codemirror_mode": {
    "name": "ipython",
    "version": 3
   },
   "file_extension": ".py",
   "mimetype": "text/x-python",
   "name": "python",
   "nbconvert_exporter": "python",
   "pygments_lexer": "ipython3",
   "version": "3.7.16"
  }
 },
 "nbformat": 4,
 "nbformat_minor": 5
}
